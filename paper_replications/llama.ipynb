{
 "cells": [
  {
   "cell_type": "markdown",
   "id": "f9544738-116a-43f8-8dbb-0e02fbca1f6a",
   "metadata": {},
   "source": [
    "# Llama \n",
    "I thinks *LLaMa* stands for Large Language Model AI or Large Language Meta AI.\n",
    "## Components \n",
    "The components in the LLaMa are as follows:\n",
    "1. Transformer\n",
    "2. RMSNorm\n",
    "3. SwiGLU\n",
    "4. Rotatory embeddings\n",
    "5. AdamW as optimizer\n",
    "\n",
    "# Current works\n",
    "In this I try to implement the retentive networks in the transformers section. And after the replication of the model, I try implement the quantization methods and QLORA.\n",
    "\n",
    "# Future works\n",
    "After this notebook, I try to quantize the LLaMa from 13B to 1.3B"
   ]
  },
  {
   "cell_type": "code",
   "execution_count": null,
   "id": "d4fe11bc-3fc3-42bf-a7f0-7734ea2c0ee9",
   "metadata": {},
   "outputs": [],
   "source": []
  }
 ],
 "metadata": {
  "kernelspec": {
   "display_name": "",
   "name": ""
  },
  "language_info": {
   "name": ""
  }
 },
 "nbformat": 4,
 "nbformat_minor": 5
}
